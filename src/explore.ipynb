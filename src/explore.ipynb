{
    "cells": [
        {
            "cell_type": "markdown",
            "metadata": {},
            "source": [
                "# Explore here"
            ]
        },
        {
            "cell_type": "code",
            "execution_count": 5,
            "metadata": {},
            "outputs": [],
            "source": [
                "from dotenv import load_dotenv\n",
                "load_dotenv()\n",
                "\n",
                "import os\n",
                "\n",
                "client_id = os.environ.get(\"CLIENT_ID\")\n",
                "client_secret = os.environ.get(\"CLIENT_SECRET\")"
            ]
        },
        {
            "cell_type": "code",
            "execution_count": 12,
            "metadata": {},
            "outputs": [
                {
                    "name": "stdout",
                    "output_type": "stream",
                    "text": [
                        "Top 10 Tracks by Taylor Swift:\n",
                        "\n",
                        "Track 1:\n",
                        "Name: Cruel Summer\n",
                        "Popularity: 98\n",
                        "Duration (minutes): 2.97\n",
                        "\n",
                        "Track 2:\n",
                        "Name: Lover\n",
                        "Popularity: 92\n",
                        "Duration (minutes): 3.69\n",
                        "\n",
                        "Track 3:\n",
                        "Name: Anti-Hero\n",
                        "Popularity: 91\n",
                        "Duration (minutes): 3.34\n",
                        "\n",
                        "Track 4:\n",
                        "Name: Is It Over Now? (Taylor's Version) (From The Vault)\n",
                        "Popularity: 90\n",
                        "Duration (minutes): 3.82\n",
                        "\n",
                        "Track 5:\n",
                        "Name: cardigan\n",
                        "Popularity: 90\n",
                        "Duration (minutes): 3.99\n",
                        "\n",
                        "Track 6:\n",
                        "Name: Don’t Blame Me\n",
                        "Popularity: 90\n",
                        "Duration (minutes): 3.94\n",
                        "\n",
                        "Track 7:\n",
                        "Name: august\n",
                        "Popularity: 88\n",
                        "Duration (minutes): 4.37\n",
                        "\n",
                        "Track 8:\n",
                        "Name: Karma\n",
                        "Popularity: 87\n",
                        "Duration (minutes): 3.41\n",
                        "\n",
                        "Track 9:\n",
                        "Name: Blank Space\n",
                        "Popularity: 76\n",
                        "Duration (minutes): 3.86\n",
                        "\n",
                        "Track 10:\n",
                        "Name: Love Story (Taylor’s Version)\n",
                        "Popularity: 81\n",
                        "Duration (minutes): 3.93\n"
                    ]
                }
            ],
            "source": [
                "import spotipy\n",
                "from spotipy.oauth2 import SpotifyClientCredentials\n",
                "\n",
                "taylor_uri = 'spotify:artist:06HL4z0CvFAxyc27GXpf02'\n",
                "client_id = 'b2581e7c87d24b369a6816e8da7d8f8b'\n",
                "client_secret = 'dc22b6b454fc447398f9dfc37cbed7ec'\n",
                "client_credentials_manager = SpotifyClientCredentials(client_id=client_id, client_secret=client_secret)\n",
                "\n",
                "spotify = spotipy.Spotify(client_credentials_manager=client_credentials_manager)\n",
                "results = spotify.artist_top_tracks(taylor_uri)\n",
                "\n",
                "results = spotify.artist_top_tracks(taylor_uri)\n",
                "\n",
                "print(\"Top 10 Tracks by Taylor Swift:\")\n",
                "for index, track in enumerate(results['tracks'][:10], start=1):\n",
                "    print(f\"\\nTrack {index}:\")\n",
                "    print(\"Name:\", track['name'])\n",
                "    print(\"Popularity:\", track['popularity'])\n",
                "    \n",
                "    # Convert duration from milliseconds to minutes\n",
                "    duration_ms = track['duration_ms']\n",
                "    duration_min = duration_ms / 60000\n",
                "    print(\"Duration (minutes):\", round(duration_min, 2))"
            ]
        },
        {
            "cell_type": "code",
            "execution_count": 14,
            "metadata": {},
            "outputs": [
                {
                    "name": "stdout",
                    "output_type": "stream",
                    "text": [
                        "Top 3 Songs by Taylor Swift (Sorted by Increasing Popularity):\n",
                        "\n",
                        "                            Name  Popularity  Duration (minutes)\n",
                        "8                    Blank Space          76            3.863767\n",
                        "9  Love Story (Taylor’s Version)          81            3.929433\n",
                        "7                          Karma          87            3.414200\n"
                    ]
                }
            ],
            "source": [
                "import pandas as pd\n",
                "tracks_data = {\n",
                "    'Name': [track['name'] for track in results['tracks']],\n",
                "    'Popularity': [track['popularity'] for track in results['tracks']],\n",
                "    'Duration (ms)': [track['duration_ms'] for track in results['tracks']]\n",
                "}\n",
                "\n",
                "# Convert the dictionary into a DataFrame\n",
                "tracks_df = pd.DataFrame(tracks_data)\n",
                "\n",
                "# Convert duration from milliseconds to minutes\n",
                "tracks_df['Duration (minutes)'] = tracks_df['Duration (ms)'] / 60000\n",
                "\n",
                "# Sort the DataFrame by increasing popularity\n",
                "tracks_df.sort_values(by='Popularity', ascending=True, inplace=True)\n",
                "\n",
                "# Display the top 3 songs\n",
                "top_3_songs = tracks_df.head(3)\n",
                "print(\"Top 3 Songs by Taylor Swift (Sorted by Increasing Popularity):\\n\")\n",
                "print(top_3_songs[['Name', 'Popularity', 'Duration (minutes)']])"
            ]
        },
        {
            "cell_type": "code",
            "execution_count": 16,
            "metadata": {},
            "outputs": [
                {
                    "data": {
                        "image/png": "[encoded data removed]",
                        "text/plain": [
                            "<Figure size 1000x600 with 1 Axes>"
                        ]
                    },
                    "metadata": {},
                    "output_type": "display_data"
                }
            ],
            "source": [
                "import matplotlib.pyplot as plt\n",
                "\n",
                "plt.figure(figsize=(10, 6))\n",
                "plt.scatter(tracks_df['Duration (minutes)'], tracks_df['Popularity'], color='blue', alpha=0.5)\n",
                "plt.title('Duration vs Popularity of Taylor Swift Songs')\n",
                "plt.xlabel('Duration (minutes)')\n",
                "plt.ylabel('Popularity')\n",
                "plt.grid(True)\n",
                "plt.show()"
            ]
        }
    ],
    "metadata": {
        "kernelspec": {
            "display_name": "Python 3.8.13 64-bit ('3.8.13')",
            "language": "python",
            "name": "python3"
        },
        "language_info": {
            "codemirror_mode": {
                "name": "ipython",
                "version": 3
            },
            "file_extension": ".py",
            "mimetype": "text/x-python",
            "name": "python",
            "nbconvert_exporter": "python",
            "pygments_lexer": "ipython3",
            "version": "3.11.4"
        },
        "orig_nbformat": 4,
        "vscode": {
            "interpreter": {
                "hash": "110cc1dee26208153f2972f08a2ad52b6a56238dc66d48e87fb757ef2996db56"
            }
        }
    },
    "nbformat": 4,
    "nbformat_minor": 2
}
